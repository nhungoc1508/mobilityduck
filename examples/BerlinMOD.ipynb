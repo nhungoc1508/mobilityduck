{
 "cells": [
  {
   "cell_type": "code",
   "execution_count": 6,
   "metadata": {},
   "outputs": [],
   "source": [
    "import duckdb"
   ]
  },
  {
   "cell_type": "code",
   "execution_count": 17,
   "metadata": {},
   "outputs": [],
   "source": [
    "connection = duckdb.connect(\n",
    "    database='./database/berlinmod.db',\n",
    "    config={'allow_unsigned_extensions' : 'true'}\n",
    ")\n",
    "\n",
    "connection.load_extension('~/duckdb/mobilityduck/build/release/extension/mobilityduck/mobilityduck.duckdb_extension')\n",
    "connection.load_extension('spatial');"
   ]
  },
  {
   "cell_type": "markdown",
   "metadata": {},
   "source": [
    "## Create table and load data from CSV"
   ]
  },
  {
   "cell_type": "code",
   "execution_count": 18,
   "metadata": {},
   "outputs": [],
   "source": [
    "query = \"\"\"\n",
    "CREATE OR REPLACE TABLE trips (\n",
    "    tripid INTEGER,\n",
    "    vehicleid INTEGER,\n",
    "    posx DOUBLE,\n",
    "    posy DOUBLE,\n",
    "    t TIMESTAMPTZ\n",
    ");\n",
    "\"\"\"\n",
    "\n",
    "connection.sql(query)"
   ]
  },
  {
   "cell_type": "code",
   "execution_count": 19,
   "metadata": {},
   "outputs": [],
   "source": [
    "query = \"COPY trips FROM 'data/trips_200k.csv';\"\n",
    "connection.sql(query)"
   ]
  },
  {
   "cell_type": "code",
   "execution_count": 20,
   "metadata": {},
   "outputs": [
    {
     "data": {
      "text/plain": [
       "(200000,)"
      ]
     },
     "execution_count": 20,
     "metadata": {},
     "output_type": "execute_result"
    }
   ],
   "source": [
    "query = \"SELECT COUNT(*) FROM trips;\"\n",
    "result = connection.sql(query).fetchone()\n",
    "result"
   ]
  },
  {
   "cell_type": "code",
   "execution_count": 21,
   "metadata": {},
   "outputs": [
    {
     "data": {
      "text/html": [
       "<div>\n",
       "<style scoped>\n",
       "    .dataframe tbody tr th:only-of-type {\n",
       "        vertical-align: middle;\n",
       "    }\n",
       "\n",
       "    .dataframe tbody tr th {\n",
       "        vertical-align: top;\n",
       "    }\n",
       "\n",
       "    .dataframe thead th {\n",
       "        text-align: right;\n",
       "    }\n",
       "</style>\n",
       "<table border=\"1\" class=\"dataframe\">\n",
       "  <thead>\n",
       "    <tr style=\"text-align: right;\">\n",
       "      <th></th>\n",
       "      <th>tripid</th>\n",
       "      <th>vehicleid</th>\n",
       "      <th>posx</th>\n",
       "      <th>posy</th>\n",
       "      <th>t</th>\n",
       "    </tr>\n",
       "  </thead>\n",
       "  <tbody>\n",
       "    <tr>\n",
       "      <th>0</th>\n",
       "      <td>1</td>\n",
       "      <td>1</td>\n",
       "      <td>4.457924</td>\n",
       "      <td>50.889049</td>\n",
       "      <td>2020-06-01 09:48:50.886000+00:00</td>\n",
       "    </tr>\n",
       "    <tr>\n",
       "      <th>1</th>\n",
       "      <td>1</td>\n",
       "      <td>1</td>\n",
       "      <td>4.457894</td>\n",
       "      <td>50.889028</td>\n",
       "      <td>2020-06-01 09:48:52.386000+00:00</td>\n",
       "    </tr>\n",
       "    <tr>\n",
       "      <th>2</th>\n",
       "      <td>1</td>\n",
       "      <td>1</td>\n",
       "      <td>4.457721</td>\n",
       "      <td>50.888909</td>\n",
       "      <td>2020-06-01 09:48:57.523414+00:00</td>\n",
       "    </tr>\n",
       "    <tr>\n",
       "      <th>3</th>\n",
       "      <td>1</td>\n",
       "      <td>1</td>\n",
       "      <td>4.457928</td>\n",
       "      <td>50.888690</td>\n",
       "      <td>2020-06-01 09:49:05.623414+00:00</td>\n",
       "    </tr>\n",
       "    <tr>\n",
       "      <th>4</th>\n",
       "      <td>1</td>\n",
       "      <td>1</td>\n",
       "      <td>4.457930</td>\n",
       "      <td>50.888689</td>\n",
       "      <td>2020-06-01 09:49:05.668849+00:00</td>\n",
       "    </tr>\n",
       "    <tr>\n",
       "      <th>5</th>\n",
       "      <td>1</td>\n",
       "      <td>1</td>\n",
       "      <td>4.457976</td>\n",
       "      <td>50.888640</td>\n",
       "      <td>2020-06-01 09:49:07.468849+00:00</td>\n",
       "    </tr>\n",
       "    <tr>\n",
       "      <th>6</th>\n",
       "      <td>1</td>\n",
       "      <td>1</td>\n",
       "      <td>4.457999</td>\n",
       "      <td>50.888616</td>\n",
       "      <td>2020-06-01 09:49:09.718849+00:00</td>\n",
       "    </tr>\n",
       "    <tr>\n",
       "      <th>7</th>\n",
       "      <td>1</td>\n",
       "      <td>1</td>\n",
       "      <td>4.458068</td>\n",
       "      <td>50.888543</td>\n",
       "      <td>2020-06-01 09:49:12.418849+00:00</td>\n",
       "    </tr>\n",
       "    <tr>\n",
       "      <th>8</th>\n",
       "      <td>1</td>\n",
       "      <td>1</td>\n",
       "      <td>4.458073</td>\n",
       "      <td>50.888538</td>\n",
       "      <td>2020-06-01 09:49:12.611699+00:00</td>\n",
       "    </tr>\n",
       "    <tr>\n",
       "      <th>9</th>\n",
       "      <td>1</td>\n",
       "      <td>1</td>\n",
       "      <td>4.458188</td>\n",
       "      <td>50.888416</td>\n",
       "      <td>2020-06-01 09:49:17.111699+00:00</td>\n",
       "    </tr>\n",
       "  </tbody>\n",
       "</table>\n",
       "</div>"
      ],
      "text/plain": [
       "   tripid  vehicleid      posx       posy                                t\n",
       "0       1          1  4.457924  50.889049 2020-06-01 09:48:50.886000+00:00\n",
       "1       1          1  4.457894  50.889028 2020-06-01 09:48:52.386000+00:00\n",
       "2       1          1  4.457721  50.888909 2020-06-01 09:48:57.523414+00:00\n",
       "3       1          1  4.457928  50.888690 2020-06-01 09:49:05.623414+00:00\n",
       "4       1          1  4.457930  50.888689 2020-06-01 09:49:05.668849+00:00\n",
       "5       1          1  4.457976  50.888640 2020-06-01 09:49:07.468849+00:00\n",
       "6       1          1  4.457999  50.888616 2020-06-01 09:49:09.718849+00:00\n",
       "7       1          1  4.458068  50.888543 2020-06-01 09:49:12.418849+00:00\n",
       "8       1          1  4.458073  50.888538 2020-06-01 09:49:12.611699+00:00\n",
       "9       1          1  4.458188  50.888416 2020-06-01 09:49:17.111699+00:00"
      ]
     },
     "execution_count": 21,
     "metadata": {},
     "output_type": "execute_result"
    }
   ],
   "source": [
    "query = \"SELECT * FROM trips LIMIT 10;\"\n",
    "result = connection.execute(query).df()\n",
    "result"
   ]
  },
  {
   "cell_type": "markdown",
   "metadata": {},
   "source": [
    "## Test `TINT()`"
   ]
  },
  {
   "cell_type": "code",
   "execution_count": 22,
   "metadata": {},
   "outputs": [
    {
     "data": {
      "text/html": [
       "<div>\n",
       "<style scoped>\n",
       "    .dataframe tbody tr th:only-of-type {\n",
       "        vertical-align: middle;\n",
       "    }\n",
       "\n",
       "    .dataframe tbody tr th {\n",
       "        vertical-align: top;\n",
       "    }\n",
       "\n",
       "    .dataframe thead th {\n",
       "        text-align: right;\n",
       "    }\n",
       "</style>\n",
       "<table border=\"1\" class=\"dataframe\">\n",
       "  <thead>\n",
       "    <tr style=\"text-align: right;\">\n",
       "      <th></th>\n",
       "      <th>CAST(tint(vehicleid, t) AS VARCHAR)</th>\n",
       "    </tr>\n",
       "  </thead>\n",
       "  <tbody>\n",
       "    <tr>\n",
       "      <th>0</th>\n",
       "      <td>1@2020-06-01 09:48:50.886+00</td>\n",
       "    </tr>\n",
       "    <tr>\n",
       "      <th>1</th>\n",
       "      <td>1@2020-06-01 09:48:52.386+00</td>\n",
       "    </tr>\n",
       "    <tr>\n",
       "      <th>2</th>\n",
       "      <td>1@2020-06-01 09:48:57.523414+00</td>\n",
       "    </tr>\n",
       "    <tr>\n",
       "      <th>3</th>\n",
       "      <td>1@2020-06-01 09:49:05.623414+00</td>\n",
       "    </tr>\n",
       "    <tr>\n",
       "      <th>4</th>\n",
       "      <td>1@2020-06-01 09:49:05.668849+00</td>\n",
       "    </tr>\n",
       "  </tbody>\n",
       "</table>\n",
       "</div>"
      ],
      "text/plain": [
       "  CAST(tint(vehicleid, t) AS VARCHAR)\n",
       "0        1@2020-06-01 09:48:50.886+00\n",
       "1        1@2020-06-01 09:48:52.386+00\n",
       "2     1@2020-06-01 09:48:57.523414+00\n",
       "3     1@2020-06-01 09:49:05.623414+00\n",
       "4     1@2020-06-01 09:49:05.668849+00"
      ]
     },
     "execution_count": 22,
     "metadata": {},
     "output_type": "execute_result"
    }
   ],
   "source": [
    "query = \"SELECT TINT(vehicleid, t)::VARCHAR from trips;\"\n",
    "result = connection.execute(query).df()\n",
    "result.head()"
   ]
  },
  {
   "cell_type": "markdown",
   "metadata": {},
   "source": [
    "## Close connection"
   ]
  },
  {
   "cell_type": "code",
   "execution_count": 23,
   "metadata": {},
   "outputs": [],
   "source": [
    "connection.close()"
   ]
  },
  {
   "cell_type": "code",
   "execution_count": null,
   "metadata": {},
   "outputs": [],
   "source": []
  }
 ],
 "metadata": {
  "kernelspec": {
   "display_name": "Python 3",
   "language": "python",
   "name": "python3"
  },
  "language_info": {
   "codemirror_mode": {
    "name": "ipython",
    "version": 3
   },
   "file_extension": ".py",
   "mimetype": "text/x-python",
   "name": "python",
   "nbconvert_exporter": "python",
   "pygments_lexer": "ipython3",
   "version": "3.9.0"
  }
 },
 "nbformat": 4,
 "nbformat_minor": 2
}
